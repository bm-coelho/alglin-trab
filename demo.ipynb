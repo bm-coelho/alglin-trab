{
 "cells": [
  {
   "cell_type": "markdown",
   "metadata": {},
   "source": [
    "# The applications of linear algebra on Recommender systems"
   ]
  },
  {
   "cell_type": "markdown",
   "metadata": {},
   "source": [
    "## Setup"
   ]
  },
  {
   "cell_type": "markdown",
   "metadata": {},
   "source": [
    "### Build"
   ]
  },
  {
   "cell_type": "code",
   "execution_count": 1,
   "metadata": {},
   "outputs": [],
   "source": [
    "# !just build"
   ]
  },
  {
   "cell_type": "markdown",
   "metadata": {},
   "source": [
    "### Modules"
   ]
  },
  {
   "cell_type": "code",
   "execution_count": 2,
   "metadata": {},
   "outputs": [],
   "source": [
    "# Our module\n",
    "import alglin_python as alin\n",
    "\n",
    "# Data manipulation\n",
    "import numpy as np\n",
    "import pandas as pd\n",
    "from sklearn.model_selection import train_test_split\n",
    "\n",
    "# Case recomender\n",
    "from caserec.recommenders.rating_prediction.most_popular import MostPopular\n",
    "from caserec.recommenders.rating_prediction.itemknn import ItemKNN\n",
    "\n",
    "# Data visualization\n",
    "import matplotlib.pyplot as plt\n",
    "\n",
    "# Other\n",
    "import os\n",
    "import tarfile\n",
    "import urllib.request\n",
    "from pathlib import Path\n",
    "from sklearn.metrics import mean_squared_error, mean_absolute_error, r2_score\n"
   ]
  },
  {
   "cell_type": "markdown",
   "metadata": {},
   "source": [
    "### Dowloading the dataset"
   ]
  },
  {
   "cell_type": "code",
   "execution_count": 3,
   "metadata": {},
   "outputs": [
    {
     "name": "stdout",
     "output_type": "stream",
     "text": [
      "Downloading ml-20m-compact.tar.gz...\n",
      "Downloaded ml-20m-compact.tar.gz.\n",
      "Extracting ml-20m-compact.tar.gz...\n",
      "Extraction completed.\n"
     ]
    }
   ],
   "source": [
    "# Helper function to download and extract a file\n",
    "def download_and_extract(url, target_folder=None):\n",
    "    \"\"\" Downloads a file from a given URL and extracts it if necessary. \"\"\"\n",
    "    # Extract file name from URL\n",
    "    file_name = os.path.basename(url)\n",
    "    \n",
    "    # Determine extraction folder name\n",
    "    if target_folder is None:\n",
    "        target_folder = os.path.splitext(file_name)[0]\n",
    "    \n",
    "    # Check if the file is already downloaded\n",
    "    if not os.path.exists(file_name):\n",
    "        print(f\"Downloading {file_name}...\")\n",
    "        urllib.request.urlretrieve(url, file_name)\n",
    "        print(f\"Downloaded {file_name}.\")\n",
    "    else:\n",
    "        print(f\"{file_name} already exists, skipping download.\")\n",
    "    \n",
    "    # Check if the folder is already extracted\n",
    "    if not os.path.exists(target_folder):\n",
    "        print(f\"Extracting {file_name}...\")\n",
    "        with tarfile.open(file_name, \"r:gz\") as tar:\n",
    "            tar.extractall()\n",
    "        print(f\"Extraction completed.\")\n",
    "    else:\n",
    "        print(f\"{target_folder} already exists, skipping extraction.\")\n",
    "\n",
    "\n",
    "# Download and extract the dataset\n",
    "dataset_url = \"https://github.com/mmanzato/MBABigData/raw/master/ml-20m-compact.tar.gz\"\n",
    "\n",
    "download_and_extract(dataset_url)\n"
   ]
  },
  {
   "cell_type": "code",
   "execution_count": 4,
   "metadata": {},
   "outputs": [],
   "source": [
    "# If the download is not working, you can try this:\n",
    "# !python3 -m wget https://github.com/mmanzato/MBABigData/raw/master/ml-20m-compact.tar.gz\n",
    "# !tar -xvzf ml-20m-compact.tar.gz"
   ]
  },
  {
   "cell_type": "markdown",
   "metadata": {},
   "source": [
    "### Loading the dataset"
   ]
  },
  {
   "cell_type": "code",
   "execution_count": 5,
   "metadata": {},
   "outputs": [
    {
     "data": {
      "text/html": [
       "<div>\n",
       "<style scoped>\n",
       "    .dataframe tbody tr th:only-of-type {\n",
       "        vertical-align: middle;\n",
       "    }\n",
       "\n",
       "    .dataframe tbody tr th {\n",
       "        vertical-align: top;\n",
       "    }\n",
       "\n",
       "    .dataframe thead th {\n",
       "        text-align: right;\n",
       "    }\n",
       "</style>\n",
       "<table border=\"1\" class=\"dataframe\">\n",
       "  <thead>\n",
       "    <tr style=\"text-align: right;\">\n",
       "      <th></th>\n",
       "      <th>movieId</th>\n",
       "      <th>title</th>\n",
       "      <th>genres</th>\n",
       "    </tr>\n",
       "  </thead>\n",
       "  <tbody>\n",
       "    <tr>\n",
       "      <th>0</th>\n",
       "      <td>30</td>\n",
       "      <td>Shanghai Triad (Yao a yao yao dao waipo qiao) ...</td>\n",
       "      <td>Crime|Drama</td>\n",
       "    </tr>\n",
       "    <tr>\n",
       "      <th>1</th>\n",
       "      <td>31</td>\n",
       "      <td>Dangerous Minds (1995)</td>\n",
       "      <td>Drama</td>\n",
       "    </tr>\n",
       "    <tr>\n",
       "      <th>2</th>\n",
       "      <td>37</td>\n",
       "      <td>Across the Sea of Time (1995)</td>\n",
       "      <td>Documentary|IMAX</td>\n",
       "    </tr>\n",
       "    <tr>\n",
       "      <th>3</th>\n",
       "      <td>161</td>\n",
       "      <td>Crimson Tide (1995)</td>\n",
       "      <td>Drama|Thriller|War</td>\n",
       "    </tr>\n",
       "    <tr>\n",
       "      <th>4</th>\n",
       "      <td>193</td>\n",
       "      <td>Showgirls (1995)</td>\n",
       "      <td>Drama</td>\n",
       "    </tr>\n",
       "    <tr>\n",
       "      <th>...</th>\n",
       "      <td>...</td>\n",
       "      <td>...</td>\n",
       "      <td>...</td>\n",
       "    </tr>\n",
       "    <tr>\n",
       "      <th>428</th>\n",
       "      <td>129857</td>\n",
       "      <td>Bright Days Ahead (2013)</td>\n",
       "      <td>Drama|Romance</td>\n",
       "    </tr>\n",
       "    <tr>\n",
       "      <th>429</th>\n",
       "      <td>130344</td>\n",
       "      <td>Coast of Death (2013)</td>\n",
       "      <td>Children|Documentary|Drama</td>\n",
       "    </tr>\n",
       "    <tr>\n",
       "      <th>430</th>\n",
       "      <td>130408</td>\n",
       "      <td>A Rumor Of War (1980)</td>\n",
       "      <td>(no genres listed)</td>\n",
       "    </tr>\n",
       "    <tr>\n",
       "      <th>431</th>\n",
       "      <td>130510</td>\n",
       "      <td>Berserk: The Golden Age Arc 3 - Descent (2013)</td>\n",
       "      <td>Action|Animation|Fantasy</td>\n",
       "    </tr>\n",
       "    <tr>\n",
       "      <th>432</th>\n",
       "      <td>131239</td>\n",
       "      <td>Three Quarter Moon (2011)</td>\n",
       "      <td>Comedy|Drama</td>\n",
       "    </tr>\n",
       "  </tbody>\n",
       "</table>\n",
       "<p>433 rows × 3 columns</p>\n",
       "</div>"
      ],
      "text/plain": [
       "     movieId                                              title  \\\n",
       "0         30  Shanghai Triad (Yao a yao yao dao waipo qiao) ...   \n",
       "1         31                             Dangerous Minds (1995)   \n",
       "2         37                      Across the Sea of Time (1995)   \n",
       "3        161                                Crimson Tide (1995)   \n",
       "4        193                                   Showgirls (1995)   \n",
       "..       ...                                                ...   \n",
       "428   129857                           Bright Days Ahead (2013)   \n",
       "429   130344                              Coast of Death (2013)   \n",
       "430   130408                              A Rumor Of War (1980)   \n",
       "431   130510     Berserk: The Golden Age Arc 3 - Descent (2013)   \n",
       "432   131239                          Three Quarter Moon (2011)   \n",
       "\n",
       "                         genres  \n",
       "0                   Crime|Drama  \n",
       "1                         Drama  \n",
       "2              Documentary|IMAX  \n",
       "3            Drama|Thriller|War  \n",
       "4                         Drama  \n",
       "..                          ...  \n",
       "428               Drama|Romance  \n",
       "429  Children|Documentary|Drama  \n",
       "430          (no genres listed)  \n",
       "431    Action|Animation|Fantasy  \n",
       "432                Comedy|Drama  \n",
       "\n",
       "[433 rows x 3 columns]"
      ]
     },
     "execution_count": 5,
     "metadata": {},
     "output_type": "execute_result"
    }
   ],
   "source": [
    "pd.read_csv('./dataset/movies_sample.csv')"
   ]
  },
  {
   "cell_type": "code",
   "execution_count": 6,
   "metadata": {},
   "outputs": [
    {
     "data": {
      "text/html": [
       "<div>\n",
       "<style scoped>\n",
       "    .dataframe tbody tr th:only-of-type {\n",
       "        vertical-align: middle;\n",
       "    }\n",
       "\n",
       "    .dataframe tbody tr th {\n",
       "        vertical-align: top;\n",
       "    }\n",
       "\n",
       "    .dataframe thead th {\n",
       "        text-align: right;\n",
       "    }\n",
       "</style>\n",
       "<table border=\"1\" class=\"dataframe\">\n",
       "  <thead>\n",
       "    <tr style=\"text-align: right;\">\n",
       "      <th></th>\n",
       "      <th>userId</th>\n",
       "      <th>movieId</th>\n",
       "      <th>rating</th>\n",
       "      <th>timestamp</th>\n",
       "    </tr>\n",
       "  </thead>\n",
       "  <tbody>\n",
       "    <tr>\n",
       "      <th>0</th>\n",
       "      <td>11</td>\n",
       "      <td>7481</td>\n",
       "      <td>5.0</td>\n",
       "      <td>1230788624</td>\n",
       "    </tr>\n",
       "    <tr>\n",
       "      <th>1</th>\n",
       "      <td>11</td>\n",
       "      <td>1046</td>\n",
       "      <td>4.5</td>\n",
       "      <td>1251144145</td>\n",
       "    </tr>\n",
       "    <tr>\n",
       "      <th>2</th>\n",
       "      <td>11</td>\n",
       "      <td>616</td>\n",
       "      <td>4.0</td>\n",
       "      <td>1230782542</td>\n",
       "    </tr>\n",
       "    <tr>\n",
       "      <th>3</th>\n",
       "      <td>11</td>\n",
       "      <td>3535</td>\n",
       "      <td>2.0</td>\n",
       "      <td>1230784884</td>\n",
       "    </tr>\n",
       "    <tr>\n",
       "      <th>4</th>\n",
       "      <td>11</td>\n",
       "      <td>5669</td>\n",
       "      <td>5.0</td>\n",
       "      <td>1230853788</td>\n",
       "    </tr>\n",
       "    <tr>\n",
       "      <th>...</th>\n",
       "      <td>...</td>\n",
       "      <td>...</td>\n",
       "      <td>...</td>\n",
       "      <td>...</td>\n",
       "    </tr>\n",
       "    <tr>\n",
       "      <th>190616</th>\n",
       "      <td>138493</td>\n",
       "      <td>288</td>\n",
       "      <td>5.0</td>\n",
       "      <td>1255808026</td>\n",
       "    </tr>\n",
       "    <tr>\n",
       "      <th>190617</th>\n",
       "      <td>138493</td>\n",
       "      <td>1748</td>\n",
       "      <td>5.0</td>\n",
       "      <td>1255805576</td>\n",
       "    </tr>\n",
       "    <tr>\n",
       "      <th>190618</th>\n",
       "      <td>138493</td>\n",
       "      <td>616</td>\n",
       "      <td>4.0</td>\n",
       "      <td>1256750556</td>\n",
       "    </tr>\n",
       "    <tr>\n",
       "      <th>190619</th>\n",
       "      <td>138493</td>\n",
       "      <td>1597</td>\n",
       "      <td>4.5</td>\n",
       "      <td>1255817426</td>\n",
       "    </tr>\n",
       "    <tr>\n",
       "      <th>190620</th>\n",
       "      <td>138493</td>\n",
       "      <td>7371</td>\n",
       "      <td>5.0</td>\n",
       "      <td>1256288607</td>\n",
       "    </tr>\n",
       "  </tbody>\n",
       "</table>\n",
       "<p>190621 rows × 4 columns</p>\n",
       "</div>"
      ],
      "text/plain": [
       "        userId  movieId  rating   timestamp\n",
       "0           11     7481     5.0  1230788624\n",
       "1           11     1046     4.5  1251144145\n",
       "2           11      616     4.0  1230782542\n",
       "3           11     3535     2.0  1230784884\n",
       "4           11     5669     5.0  1230853788\n",
       "...        ...      ...     ...         ...\n",
       "190616  138493      288     5.0  1255808026\n",
       "190617  138493     1748     5.0  1255805576\n",
       "190618  138493      616     4.0  1256750556\n",
       "190619  138493     1597     4.5  1255817426\n",
       "190620  138493     7371     5.0  1256288607\n",
       "\n",
       "[190621 rows x 4 columns]"
      ]
     },
     "execution_count": 6,
     "metadata": {},
     "output_type": "execute_result"
    }
   ],
   "source": [
    "pd.read_csv('./dataset/ratings_sample.csv')"
   ]
  },
  {
   "cell_type": "code",
   "execution_count": 7,
   "metadata": {},
   "outputs": [],
   "source": [
    "# Loading data\n",
    "movies_df = pd.read_csv('./dataset/movies_sample.csv')\n",
    "ratings_df = pd.read_csv('./dataset/ratings_sample.csv')\n",
    "\n",
    "# Extract unique users and movies\n",
    "all_users = ratings_df['userId'].unique()\n",
    "all_movies = pd.concat([ratings_df['movieId'], movies_df['movieId']]).unique()\n",
    "\n",
    "# Mapping users and movies to indices\n",
    "map_users = {user: idx for idx, user in enumerate(all_users)}\n",
    "map_items = {item: idx for idx, item in enumerate(all_movies)}\n",
    "\n",
    "# Apply the mappings directly\n",
    "ratings_df['userId'] = ratings_df['userId'].map(map_users)\n",
    "ratings_df['movieId'] = ratings_df['movieId'].map(map_items)\n",
    "movies_df['movieId'] = movies_df['movieId'].map(map_items)\n",
    "\n",
    "# Drop unnecessary columns\n",
    "movies_df = movies_df.drop(columns=['title'])\n",
    "\n",
    "# Prepare mapped arrays for future use\n",
    "all_movies = np.arange(len(all_movies))  # Mapped movie IDs\n",
    "all_users = np.arange(len(all_users))   # Mapped user IDs"
   ]
  },
  {
   "cell_type": "markdown",
   "metadata": {},
   "source": [
    "## Helper Functions"
   ]
  },
  {
   "cell_type": "code",
   "execution_count": 8,
   "metadata": {},
   "outputs": [],
   "source": [
    "def evaluate_predictions(predictions, ground_truth, silent=False):\n",
    "    \"\"\"\n",
    "    Evaluates the predictions against ground truth using RMSE, MAE, and R² metrics.\n",
    "    \n",
    "    Parameters:\n",
    "    - predictions: pandas Series or numpy array, predicted ratings.\n",
    "    - ground_truth: pandas Series or numpy array, true ratings.\n",
    "    - silent: bool, if False (default), prints the metrics. If True, suppresses output.\n",
    "    \n",
    "    Returns:\n",
    "    - metrics: dict, a dictionary containing RMSE, MAE, and R² scores.\n",
    "    \"\"\"\n",
    "    \n",
    "    rmse = np.sqrt(mean_squared_error(ground_truth, predictions))\n",
    "    mae = mean_absolute_error(ground_truth, predictions)\n",
    "    r2 = r2_score(ground_truth, predictions)\n",
    "    \n",
    "    metrics = {\n",
    "        \"RMSE\": rmse,\n",
    "        \"MAE\": mae,\n",
    "        \"R²\": r2\n",
    "    }\n",
    "    \n",
    "    if not silent:\n",
    "        print(f\"RMSE: {rmse:.2f}\")\n",
    "        print(f\"MAE: {mae:.2f}\")\n",
    "        print(f\"R²: {r2:.2f}\")\n",
    "    \n",
    "    return metrics"
   ]
  },
  {
   "cell_type": "markdown",
   "metadata": {},
   "source": [
    "## Exploration"
   ]
  },
  {
   "cell_type": "code",
   "execution_count": 9,
   "metadata": {},
   "outputs": [
    {
     "data": {
      "text/html": [
       "<div>\n",
       "<style scoped>\n",
       "    .dataframe tbody tr th:only-of-type {\n",
       "        vertical-align: middle;\n",
       "    }\n",
       "\n",
       "    .dataframe tbody tr th {\n",
       "        vertical-align: top;\n",
       "    }\n",
       "\n",
       "    .dataframe thead th {\n",
       "        text-align: right;\n",
       "    }\n",
       "</style>\n",
       "<table border=\"1\" class=\"dataframe\">\n",
       "  <thead>\n",
       "    <tr style=\"text-align: right;\">\n",
       "      <th></th>\n",
       "      <th>movieId</th>\n",
       "      <th>genres</th>\n",
       "    </tr>\n",
       "  </thead>\n",
       "  <tbody>\n",
       "    <tr>\n",
       "      <th>0</th>\n",
       "      <td>49</td>\n",
       "      <td>Crime|Drama</td>\n",
       "    </tr>\n",
       "    <tr>\n",
       "      <th>1</th>\n",
       "      <td>61</td>\n",
       "      <td>Drama</td>\n",
       "    </tr>\n",
       "    <tr>\n",
       "      <th>2</th>\n",
       "      <td>125</td>\n",
       "      <td>Documentary|IMAX</td>\n",
       "    </tr>\n",
       "    <tr>\n",
       "      <th>3</th>\n",
       "      <td>23</td>\n",
       "      <td>Drama|Thriller|War</td>\n",
       "    </tr>\n",
       "    <tr>\n",
       "      <th>4</th>\n",
       "      <td>56</td>\n",
       "      <td>Drama</td>\n",
       "    </tr>\n",
       "  </tbody>\n",
       "</table>\n",
       "</div>"
      ],
      "text/plain": [
       "   movieId              genres\n",
       "0       49         Crime|Drama\n",
       "1       61               Drama\n",
       "2      125    Documentary|IMAX\n",
       "3       23  Drama|Thriller|War\n",
       "4       56               Drama"
      ]
     },
     "execution_count": 9,
     "metadata": {},
     "output_type": "execute_result"
    }
   ],
   "source": [
    "movies_df.head()"
   ]
  },
  {
   "cell_type": "code",
   "execution_count": 10,
   "metadata": {},
   "outputs": [
    {
     "data": {
      "text/html": [
       "<div>\n",
       "<style scoped>\n",
       "    .dataframe tbody tr th:only-of-type {\n",
       "        vertical-align: middle;\n",
       "    }\n",
       "\n",
       "    .dataframe tbody tr th {\n",
       "        vertical-align: top;\n",
       "    }\n",
       "\n",
       "    .dataframe thead th {\n",
       "        text-align: right;\n",
       "    }\n",
       "</style>\n",
       "<table border=\"1\" class=\"dataframe\">\n",
       "  <thead>\n",
       "    <tr style=\"text-align: right;\">\n",
       "      <th></th>\n",
       "      <th>userId</th>\n",
       "      <th>movieId</th>\n",
       "      <th>rating</th>\n",
       "      <th>timestamp</th>\n",
       "    </tr>\n",
       "  </thead>\n",
       "  <tbody>\n",
       "    <tr>\n",
       "      <th>0</th>\n",
       "      <td>0</td>\n",
       "      <td>0</td>\n",
       "      <td>5.0</td>\n",
       "      <td>1230788624</td>\n",
       "    </tr>\n",
       "    <tr>\n",
       "      <th>1</th>\n",
       "      <td>0</td>\n",
       "      <td>1</td>\n",
       "      <td>4.5</td>\n",
       "      <td>1251144145</td>\n",
       "    </tr>\n",
       "    <tr>\n",
       "      <th>2</th>\n",
       "      <td>0</td>\n",
       "      <td>2</td>\n",
       "      <td>4.0</td>\n",
       "      <td>1230782542</td>\n",
       "    </tr>\n",
       "    <tr>\n",
       "      <th>3</th>\n",
       "      <td>0</td>\n",
       "      <td>3</td>\n",
       "      <td>2.0</td>\n",
       "      <td>1230784884</td>\n",
       "    </tr>\n",
       "    <tr>\n",
       "      <th>4</th>\n",
       "      <td>0</td>\n",
       "      <td>4</td>\n",
       "      <td>5.0</td>\n",
       "      <td>1230853788</td>\n",
       "    </tr>\n",
       "  </tbody>\n",
       "</table>\n",
       "</div>"
      ],
      "text/plain": [
       "   userId  movieId  rating   timestamp\n",
       "0       0        0     5.0  1230788624\n",
       "1       0        1     4.5  1251144145\n",
       "2       0        2     4.0  1230782542\n",
       "3       0        3     2.0  1230784884\n",
       "4       0        4     5.0  1230853788"
      ]
     },
     "execution_count": 10,
     "metadata": {},
     "output_type": "execute_result"
    }
   ],
   "source": [
    "ratings_df.head()"
   ]
  },
  {
   "cell_type": "code",
   "execution_count": 11,
   "metadata": {},
   "outputs": [
    {
     "name": "stdout",
     "output_type": "stream",
     "text": [
      "\n",
      "    Number of users: 11090\n",
      "    Number of items: 417\n",
      "    Number of interactions: 190621\n",
      "    Interaction-to-user ratio: 17.19\n",
      "    Interaction-to-item ratio: 457.12\n",
      "    \n"
     ]
    }
   ],
   "source": [
    "def print_dataset_statistics(df):\n",
    "    \"\"\"\n",
    "    Prints dataset statistics including the number of users, items, interactions, \n",
    "    and interaction ratios per user and per item.\n",
    "    \"\"\"\n",
    "    num_users = df['userId'].nunique()\n",
    "    num_items = df['movieId'].nunique()\n",
    "    num_interactions = df.shape[0]\n",
    "    interaction_user_ratio = num_interactions / num_users\n",
    "    interaction_item_ratio = num_interactions / num_items\n",
    "\n",
    "    stats_message = f\"\"\"\n",
    "    Number of users: {num_users}\n",
    "    Number of items: {num_items}\n",
    "    Number of interactions: {num_interactions}\n",
    "    Interaction-to-user ratio: {interaction_user_ratio:.2f}\n",
    "    Interaction-to-item ratio: {interaction_item_ratio:.2f}\n",
    "    \"\"\"\n",
    "    \n",
    "    print(stats_message)\n",
    "\n",
    "\n",
    "print_dataset_statistics(ratings_df)"
   ]
  },
  {
   "cell_type": "code",
   "execution_count": 12,
   "metadata": {},
   "outputs": [
    {
     "data": {
      "image/png": "[encoded data removed]",
      "text/plain": [
       "<Figure size 640x480 with 1 Axes>"
      ]
     },
     "metadata": {},
     "output_type": "display_data"
    }
   ],
   "source": [
    "def plot_rating_distribution(ratings, column_name = 'rating', title='Rating Distribution'):\n",
    "    \"\"\" Plots the distribution of ratings in a specified column. \"\"\"\n",
    "\n",
    "    # Calculate value counts\n",
    "    value_counts = ratings[column_name].value_counts()\n",
    "    \n",
    "    # Create a bar plot with dynamic colors\n",
    "    value_counts.plot(kind='bar', color=plt.cm.tab10.colors[:len(value_counts)])\n",
    "    \n",
    "    # Add title and axis labels\n",
    "    plt.title(title, fontsize=14)\n",
    "    plt.xlabel('Ratings', fontsize=12)\n",
    "    plt.ylabel('Frequency', fontsize=12)\n",
    "    \n",
    "    # Improve layout and readability\n",
    "    plt.xticks(rotation=0, fontsize=10)\n",
    "    plt.yticks(fontsize=10)\n",
    "    plt.tight_layout()\n",
    "    \n",
    "    # Display the plot\n",
    "    plt.show()\n",
    "\n",
    "plot_rating_distribution(ratings_df)"
   ]
  },
  {
   "cell_type": "markdown",
   "metadata": {},
   "source": [
    "### Train-Test split"
   ]
  },
  {
   "cell_type": "code",
   "execution_count": 13,
   "metadata": {},
   "outputs": [],
   "source": [
    "os.makedirs('cache', exist_ok=True)\n",
    "cache_path = Path('cache')\n",
    "\n",
    "train, test = train_test_split(ratings_df, test_size=.2, random_state=2)\n",
    "\n",
    "train_file = cache_path / 'train.csv'\n",
    "test_file = cache_path / 'test.csv'\n",
    "\n",
    "train.to_csv(train_file, index=False, header=False, sep='\\t')\n",
    "test.to_csv(test_file, index=False, header=False, sep='\\t')"
   ]
  },
  {
   "cell_type": "markdown",
   "metadata": {},
   "source": [
    "### Most Popular"
   ]
  },
  {
   "cell_type": "code",
   "execution_count": 14,
   "metadata": {},
   "outputs": [
    {
     "name": "stdout",
     "output_type": "stream",
     "text": [
      "File found. Skipping Most Popular computation\n"
     ]
    }
   ],
   "source": [
    "mp_pred_file = cache_path / 'out_mp_pred.csv'\n",
    "\n",
    "if mp_pred_file.exists():\n",
    "    print(\"File found. Skipping Most Popular computation\")\n",
    "else:\n",
    "    MostPopular(train_file, test_file, mp_pred_file).compute()"
   ]
  },
  {
   "cell_type": "code",
   "execution_count": 15,
   "metadata": {},
   "outputs": [
    {
     "data": {
      "text/html": [
       "<div>\n",
       "<style scoped>\n",
       "    .dataframe tbody tr th:only-of-type {\n",
       "        vertical-align: middle;\n",
       "    }\n",
       "\n",
       "    .dataframe tbody tr th {\n",
       "        vertical-align: top;\n",
       "    }\n",
       "\n",
       "    .dataframe thead th {\n",
       "        text-align: right;\n",
       "    }\n",
       "</style>\n",
       "<table border=\"1\" class=\"dataframe\">\n",
       "  <thead>\n",
       "    <tr style=\"text-align: right;\">\n",
       "      <th></th>\n",
       "      <th>userId</th>\n",
       "      <th>movieId</th>\n",
       "      <th>rating</th>\n",
       "      <th>rounded_rating</th>\n",
       "    </tr>\n",
       "  </thead>\n",
       "  <tbody>\n",
       "    <tr>\n",
       "      <th>0</th>\n",
       "      <td>0</td>\n",
       "      <td>5</td>\n",
       "      <td>3.340482</td>\n",
       "      <td>3.0</td>\n",
       "    </tr>\n",
       "    <tr>\n",
       "      <th>1</th>\n",
       "      <td>0</td>\n",
       "      <td>0</td>\n",
       "      <td>3.462625</td>\n",
       "      <td>3.0</td>\n",
       "    </tr>\n",
       "    <tr>\n",
       "      <th>2</th>\n",
       "      <td>1</td>\n",
       "      <td>13</td>\n",
       "      <td>3.501614</td>\n",
       "      <td>4.0</td>\n",
       "    </tr>\n",
       "    <tr>\n",
       "      <th>3</th>\n",
       "      <td>1</td>\n",
       "      <td>16</td>\n",
       "      <td>3.075567</td>\n",
       "      <td>3.0</td>\n",
       "    </tr>\n",
       "    <tr>\n",
       "      <th>4</th>\n",
       "      <td>1</td>\n",
       "      <td>14</td>\n",
       "      <td>3.654597</td>\n",
       "      <td>4.0</td>\n",
       "    </tr>\n",
       "  </tbody>\n",
       "</table>\n",
       "</div>"
      ],
      "text/plain": [
       "   userId  movieId    rating  rounded_rating\n",
       "0       0        5  3.340482             3.0\n",
       "1       0        0  3.462625             3.0\n",
       "2       1       13  3.501614             4.0\n",
       "3       1       16  3.075567             3.0\n",
       "4       1       14  3.654597             4.0"
      ]
     },
     "execution_count": 15,
     "metadata": {},
     "output_type": "execute_result"
    }
   ],
   "source": [
    "mp_pred_df = pd.read_csv(mp_pred_file, sep='\\t', names=['userId', 'movieId', 'rating'])\n",
    "mp_pred_df['rounded_rating'] = mp_pred_df['rating'].round()\n",
    "\n",
    "mp_pred_df.head()"
   ]
  },
  {
   "cell_type": "code",
   "execution_count": 16,
   "metadata": {},
   "outputs": [
    {
     "data": {
      "image/png": "[encoded data removed]",
      "text/plain": [
       "<Figure size 640x480 with 1 Axes>"
      ]
     },
     "metadata": {},
     "output_type": "display_data"
    }
   ],
   "source": [
    "plot_rating_distribution(mp_pred_df, column_name='rounded_rating', title='Most Popular Predictions')"
   ]
  },
  {
   "cell_type": "code",
   "execution_count": 17,
   "metadata": {},
   "outputs": [
    {
     "name": "stdout",
     "output_type": "stream",
     "text": [
      "RMSE: 1.16\n",
      "MAE: 0.91\n",
      "R²: -0.24\n"
     ]
    }
   ],
   "source": [
    "mp_evaluation = evaluate_predictions(mp_pred_df['rating'], test['rating'])"
   ]
  },
  {
   "cell_type": "markdown",
   "metadata": {},
   "source": [
    "### Item KNN"
   ]
  },
  {
   "cell_type": "code",
   "execution_count": 18,
   "metadata": {},
   "outputs": [
    {
     "name": "stdout",
     "output_type": "stream",
     "text": [
      "File found. Skipping ItemKNN computation\n"
     ]
    }
   ],
   "source": [
    "itemknn_pred_file = cache_path / 'out_itemknn_pred.csv'\n",
    "\n",
    "if itemknn_pred_file.exists():\n",
    "    print(\"File found. Skipping ItemKNN computation\")\n",
    "else:\n",
    "    ItemKNN(train_file, test_file, itemknn_pred_file).compute()"
   ]
  },
  {
   "cell_type": "code",
   "execution_count": 19,
   "metadata": {},
   "outputs": [
    {
     "data": {
      "text/html": [
       "<div>\n",
       "<style scoped>\n",
       "    .dataframe tbody tr th:only-of-type {\n",
       "        vertical-align: middle;\n",
       "    }\n",
       "\n",
       "    .dataframe tbody tr th {\n",
       "        vertical-align: top;\n",
       "    }\n",
       "\n",
       "    .dataframe thead th {\n",
       "        text-align: right;\n",
       "    }\n",
       "</style>\n",
       "<table border=\"1\" class=\"dataframe\">\n",
       "  <thead>\n",
       "    <tr style=\"text-align: right;\">\n",
       "      <th></th>\n",
       "      <th>userId</th>\n",
       "      <th>movieId</th>\n",
       "      <th>rating</th>\n",
       "      <th>rounded_rating</th>\n",
       "    </tr>\n",
       "  </thead>\n",
       "  <tbody>\n",
       "    <tr>\n",
       "      <th>0</th>\n",
       "      <td>0</td>\n",
       "      <td>0</td>\n",
       "      <td>4.700316</td>\n",
       "      <td>5.0</td>\n",
       "    </tr>\n",
       "    <tr>\n",
       "      <th>1</th>\n",
       "      <td>0</td>\n",
       "      <td>5</td>\n",
       "      <td>4.159026</td>\n",
       "      <td>4.0</td>\n",
       "    </tr>\n",
       "    <tr>\n",
       "      <th>2</th>\n",
       "      <td>1</td>\n",
       "      <td>13</td>\n",
       "      <td>4.891167</td>\n",
       "      <td>5.0</td>\n",
       "    </tr>\n",
       "    <tr>\n",
       "      <th>3</th>\n",
       "      <td>1</td>\n",
       "      <td>14</td>\n",
       "      <td>5.000000</td>\n",
       "      <td>5.0</td>\n",
       "    </tr>\n",
       "    <tr>\n",
       "      <th>4</th>\n",
       "      <td>1</td>\n",
       "      <td>16</td>\n",
       "      <td>3.885790</td>\n",
       "      <td>4.0</td>\n",
       "    </tr>\n",
       "  </tbody>\n",
       "</table>\n",
       "</div>"
      ],
      "text/plain": [
       "   userId  movieId    rating  rounded_rating\n",
       "0       0        0  4.700316             5.0\n",
       "1       0        5  4.159026             4.0\n",
       "2       1       13  4.891167             5.0\n",
       "3       1       14  5.000000             5.0\n",
       "4       1       16  3.885790             4.0"
      ]
     },
     "execution_count": 19,
     "metadata": {},
     "output_type": "execute_result"
    }
   ],
   "source": [
    "itemknn_pred_df = pd.read_csv(itemknn_pred_file, sep='\\t', names=['userId', 'movieId', 'rating'])\n",
    "itemknn_pred_df['rounded_rating'] = itemknn_pred_df['rating'].round()\n",
    "\n",
    "itemknn_pred_df.head()"
   ]
  },
  {
   "cell_type": "code",
   "execution_count": 20,
   "metadata": {},
   "outputs": [
    {
     "data": {
      "image/png": "[encoded data removed]",
      "text/plain": [
       "<Figure size 640x480 with 1 Axes>"
      ]
     },
     "metadata": {},
     "output_type": "display_data"
    }
   ],
   "source": [
    "plot_rating_distribution(itemknn_pred_df, column_name='rounded_rating', title='Item KNN Predictions')"
   ]
  },
  {
   "cell_type": "code",
   "execution_count": 21,
   "metadata": {},
   "outputs": [
    {
     "name": "stdout",
     "output_type": "stream",
     "text": [
      "RMSE: 1.40\n",
      "MAE: 1.11\n",
      "R²: -0.83\n"
     ]
    }
   ],
   "source": [
    "itemknn_evaluation = evaluate_predictions(itemknn_pred_df['rating'], test['rating'])"
   ]
  },
  {
   "cell_type": "markdown",
   "metadata": {},
   "source": [
    "### SVD++ "
   ]
  },
  {
   "cell_type": "code",
   "execution_count": 22,
   "metadata": {},
   "outputs": [
    {
     "data": {
      "text/html": [
       "<div>\n",
       "<style scoped>\n",
       "    .dataframe tbody tr th:only-of-type {\n",
       "        vertical-align: middle;\n",
       "    }\n",
       "\n",
       "    .dataframe tbody tr th {\n",
       "        vertical-align: top;\n",
       "    }\n",
       "\n",
       "    .dataframe thead th {\n",
       "        text-align: right;\n",
       "    }\n",
       "</style>\n",
       "<table border=\"1\" class=\"dataframe\">\n",
       "  <thead>\n",
       "    <tr style=\"text-align: right;\">\n",
       "      <th></th>\n",
       "      <th>userId</th>\n",
       "      <th>movieId</th>\n",
       "      <th>rating</th>\n",
       "      <th>timestamp</th>\n",
       "    </tr>\n",
       "  </thead>\n",
       "  <tbody>\n",
       "    <tr>\n",
       "      <th>36611</th>\n",
       "      <td>0</td>\n",
       "      <td>0</td>\n",
       "      <td>3.5</td>\n",
       "      <td>1079814338</td>\n",
       "    </tr>\n",
       "    <tr>\n",
       "      <th>188442</th>\n",
       "      <td>1</td>\n",
       "      <td>1</td>\n",
       "      <td>4.0</td>\n",
       "      <td>1226813987</td>\n",
       "    </tr>\n",
       "    <tr>\n",
       "      <th>77452</th>\n",
       "      <td>2</td>\n",
       "      <td>2</td>\n",
       "      <td>4.0</td>\n",
       "      <td>1389300242</td>\n",
       "    </tr>\n",
       "    <tr>\n",
       "      <th>178362</th>\n",
       "      <td>3</td>\n",
       "      <td>3</td>\n",
       "      <td>4.0</td>\n",
       "      <td>1002996477</td>\n",
       "    </tr>\n",
       "    <tr>\n",
       "      <th>107132</th>\n",
       "      <td>4</td>\n",
       "      <td>4</td>\n",
       "      <td>1.0</td>\n",
       "      <td>1424129819</td>\n",
       "    </tr>\n",
       "    <tr>\n",
       "      <th>...</th>\n",
       "      <td>...</td>\n",
       "      <td>...</td>\n",
       "      <td>...</td>\n",
       "      <td>...</td>\n",
       "    </tr>\n",
       "    <tr>\n",
       "      <th>159738</th>\n",
       "      <td>1721</td>\n",
       "      <td>84</td>\n",
       "      <td>4.5</td>\n",
       "      <td>1282551968</td>\n",
       "    </tr>\n",
       "    <tr>\n",
       "      <th>29787</th>\n",
       "      <td>1722</td>\n",
       "      <td>99</td>\n",
       "      <td>4.0</td>\n",
       "      <td>1038403464</td>\n",
       "    </tr>\n",
       "    <tr>\n",
       "      <th>97926</th>\n",
       "      <td>1723</td>\n",
       "      <td>94</td>\n",
       "      <td>1.0</td>\n",
       "      <td>1228776063</td>\n",
       "    </tr>\n",
       "    <tr>\n",
       "      <th>60512</th>\n",
       "      <td>331</td>\n",
       "      <td>70</td>\n",
       "      <td>3.0</td>\n",
       "      <td>1186329054</td>\n",
       "    </tr>\n",
       "    <tr>\n",
       "      <th>171874</th>\n",
       "      <td>1451</td>\n",
       "      <td>10</td>\n",
       "      <td>4.0</td>\n",
       "      <td>941840845</td>\n",
       "    </tr>\n",
       "  </tbody>\n",
       "</table>\n",
       "<p>1906 rows × 4 columns</p>\n",
       "</div>"
      ],
      "text/plain": [
       "        userId  movieId  rating   timestamp\n",
       "36611        0        0     3.5  1079814338\n",
       "188442       1        1     4.0  1226813987\n",
       "77452        2        2     4.0  1389300242\n",
       "178362       3        3     4.0  1002996477\n",
       "107132       4        4     1.0  1424129819\n",
       "...        ...      ...     ...         ...\n",
       "159738    1721       84     4.5  1282551968\n",
       "29787     1722       99     4.0  1038403464\n",
       "97926     1723       94     1.0  1228776063\n",
       "60512      331       70     3.0  1186329054\n",
       "171874    1451       10     4.0   941840845\n",
       "\n",
       "[1906 rows x 4 columns]"
      ]
     },
     "execution_count": 22,
     "metadata": {},
     "output_type": "execute_result"
    }
   ],
   "source": [
    "ratings_sample_df = ratings_df.sample(frac=0.01, random_state=42)\n",
    "\n",
    "sample_user_mapping = {user: idx for idx, user in enumerate(ratings_sample_df['userId'].unique())}\n",
    "sample_item_mapping = {item: idx for idx, item in enumerate(ratings_sample_df['movieId'].unique())}\n",
    "\n",
    "ratings_sample_df['userId'] = ratings_sample_df['userId'].map(sample_user_mapping)\n",
    "ratings_sample_df['movieId'] = ratings_sample_df['movieId'].map(sample_item_mapping)\n",
    "\n",
    "# Sample train-test split\n",
    "sample_train, sample_test = train_test_split(ratings_sample_df, test_size=.2, random_state=2)\n",
    "\n",
    "ratings_sample_df"
   ]
  },
  {
   "cell_type": "code",
   "execution_count": 23,
   "metadata": {},
   "outputs": [],
   "source": [
    "from alglin_python import svdpp"
   ]
  },
  {
   "cell_type": "code",
   "execution_count": 24,
   "metadata": {},
   "outputs": [],
   "source": [
    "global_mean, bu, bi, p, q, implicit_factors, error = svdpp.train_svdpp(ratings_sample_df, sample_train, 2, miter=30)"
   ]
  },
  {
   "cell_type": "code",
   "execution_count": 25,
   "metadata": {},
   "outputs": [
    {
     "data": {
      "image/png": "[encoded data removed]",
      "text/plain": [
       "<Figure size 800x600 with 1 Axes>"
      ]
     },
     "metadata": {},
     "output_type": "display_data"
    }
   ],
   "source": [
    "def plot_error(error, title=\"SVD++ Error Over Time\", xlabel=\"Iterations\", ylabel=\"Error\", grid=True):\n",
    "    \"\"\"\n",
    "    Plots the error values with enhancements for better visualization.\n",
    "    \"\"\"\n",
    "    plt.figure(figsize=(8, 6))  # Adjust figure size for better readability\n",
    "    plt.plot(error, label=\"Error\", color=\"blue\", linewidth=2)  # Customize line appearance\n",
    "    plt.title(title, fontsize=16)\n",
    "    plt.xlabel(xlabel, fontsize=12)\n",
    "    plt.ylabel(ylabel, fontsize=12)\n",
    "    plt.legend(fontsize=10)  # Add a legend\n",
    "    if grid:\n",
    "        plt.grid(alpha=0.3)  # Add light gridlines for better readability\n",
    "    plt.tight_layout()  # Ensure no clipping of labels\n",
    "    plt.show()\n",
    "\n",
    "\n",
    "plot_error(error)\n"
   ]
  },
  {
   "cell_type": "code",
   "execution_count": 26,
   "metadata": {},
   "outputs": [
    {
     "name": "stdout",
     "output_type": "stream",
     "text": [
      "RMSE: 1.081400932433518\n",
      "Predicted: 3.40, Actual: 2.50\n",
      "Predicted: 3.40, Actual: 3.50\n",
      "Predicted: 3.63, Actual: 4.50\n",
      "Predicted: 3.40, Actual: 5.00\n",
      "Predicted: 3.40, Actual: 4.00\n",
      "Predicted: 4.69, Actual: 3.50\n",
      "Predicted: 3.40, Actual: 1.00\n",
      "Predicted: 3.40, Actual: 0.50\n",
      "Predicted: 3.40, Actual: 3.00\n",
      "Predicted: 3.40, Actual: 2.50\n"
     ]
    }
   ],
   "source": [
    "predictions, actuals = svdpp.evaluate_model_svdpp(sample_train, global_mean, bu, bi, p, q, implicit_factors, test)\n",
    "\n",
    "for i in range(10):\n",
    "    print(f'Predicted: {predictions[i]:.2f}, Actual: {actuals[i]:.2f}')"
   ]
  },
  {
   "cell_type": "markdown",
   "metadata": {},
   "source": [
    "### SVD++ Optimized/Vectorized"
   ]
  },
  {
   "cell_type": "code",
   "execution_count": 27,
   "metadata": {},
   "outputs": [
    {
     "name": "stdout",
     "output_type": "stream",
     "text": [
      "Iteration 1/30, RMSE: 0.9934482896702319\n",
      "Iteration 2/30, RMSE: 0.8839751071527941\n",
      "Iteration 3/30, RMSE: 0.8166951749196318\n",
      "Iteration 4/30, RMSE: 0.7593051430065095\n",
      "Iteration 5/30, RMSE: 0.7060019636075174\n",
      "Iteration 6/30, RMSE: 0.6543251132633667\n",
      "Iteration 7/30, RMSE: 0.6032324218509302\n",
      "Iteration 8/30, RMSE: 0.5528396260705731\n",
      "Iteration 9/30, RMSE: 0.5042555152180246\n",
      "Iteration 10/30, RMSE: 0.45886534785960287\n",
      "Iteration 11/30, RMSE: 0.4175042533749366\n",
      "Iteration 12/30, RMSE: 0.3803443033179496\n",
      "Iteration 13/30, RMSE: 0.3471269927264757\n",
      "Iteration 14/30, RMSE: 0.3176898918048287\n",
      "Iteration 15/30, RMSE: 0.29372972630129546\n",
      "Iteration 16/30, RMSE: 0.2903384726221367\n",
      "Iteration 17/30, RMSE: 0.31872333140653797\n",
      "Iteration 18/30, RMSE: 0.29403355543954995\n",
      "Iteration 19/30, RMSE: 0.24067614396095224\n",
      "Iteration 20/30, RMSE: 0.22447632205756796\n",
      "Iteration 21/30, RMSE: 0.21709746934424753\n",
      "Iteration 22/30, RMSE: 0.22242049785452384\n",
      "Iteration 23/30, RMSE: 0.21933318472683408\n",
      "Iteration 24/30, RMSE: 0.20526830684655392\n",
      "Iteration 25/30, RMSE: 0.1764743644550743\n",
      "Iteration 26/30, RMSE: 0.16595249769656828\n",
      "Iteration 27/30, RMSE: 0.15327591002610064\n",
      "Iteration 28/30, RMSE: 0.14991985765159924\n",
      "Iteration 29/30, RMSE: 0.14418559168530584\n",
      "Iteration 30/30, RMSE: 0.1409952546057238\n"
     ]
    }
   ],
   "source": [
    "global_mean, bu, bi, p, q, implicit_factors, error = svdpp.train_svdpp_optimized(ratings_sample_df, sample_train, 2, miter=30)"
   ]
  },
  {
   "cell_type": "code",
   "execution_count": 28,
   "metadata": {},
   "outputs": [
    {
     "data": {
      "image/png": "[encoded data removed]",
      "text/plain": [
       "<Figure size 800x600 with 1 Axes>"
      ]
     },
     "metadata": {},
     "output_type": "display_data"
    }
   ],
   "source": [
    "plot_error(error)"
   ]
  },
  {
   "cell_type": "code",
   "execution_count": 29,
   "metadata": {},
   "outputs": [
    {
     "name": "stdout",
     "output_type": "stream",
     "text": [
      "RMSE: 1.078937957094914\n",
      "Predicted: 3.40, Actual: 2.50\n",
      "Predicted: 3.40, Actual: 3.50\n",
      "Predicted: 3.57, Actual: 4.50\n",
      "Predicted: 3.40, Actual: 5.00\n",
      "Predicted: 3.40, Actual: 4.00\n",
      "Predicted: 4.10, Actual: 3.50\n",
      "Predicted: 3.40, Actual: 1.00\n",
      "Predicted: 3.40, Actual: 0.50\n",
      "Predicted: 3.40, Actual: 3.00\n",
      "Predicted: 3.40, Actual: 2.50\n"
     ]
    }
   ],
   "source": [
    "predictions, actuals = svdpp.evaluate_model_svdpp(sample_train, global_mean, bu, bi, p, q, implicit_factors, test)\n",
    "\n",
    "for i in range(10):\n",
    "    print(f'Predicted: {predictions[i]:.2f}, Actual: {actuals[i]:.2f}')"
   ]
  }
 ],
 "metadata": {
  "kernelspec": {
   "display_name": "Python 3",
   "language": "python",
   "name": "python3"
  },
  "language_info": {
   "codemirror_mode": {
    "name": "ipython",
    "version": 3
   },
   "file_extension": ".py",
   "mimetype": "text/x-python",
   "name": "python",
   "nbconvert_exporter": "python",
   "pygments_lexer": "ipython3",
   "version": "3.10.12"
  }
 },
 "nbformat": 4,
 "nbformat_minor": 2
}
